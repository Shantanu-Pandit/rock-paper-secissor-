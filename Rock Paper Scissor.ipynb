{
 "cells": [
  {
   "cell_type": "code",
   "execution_count": 1,
   "id": "1ce8979d",
   "metadata": {},
   "outputs": [
    {
     "name": "stdout",
     "output_type": "stream",
     "text": [
      "\n",
      "Game Start\n",
      "1 Yes\n",
      "2 NO/Exit\n",
      "    2\n"
     ]
    }
   ],
   "source": [
    "import random\n",
    "lst = [\"rock\", \"paper\", \"scissor\"]\n",
    "\n",
    "while True:\n",
    "    ucount=0\n",
    "    ccount=0\n",
    "    \n",
    "    user_input = int(input('''\n",
    "Game Start\n",
    "1 Yes\n",
    "2 NO/Exit\n",
    "    '''))\n",
    "    \n",
    "    if user_input==1:\n",
    "        for a in range(1,6):\n",
    "            user_input2 = int(input('''\n",
    "1 Rock\n",
    "2 Paper\n",
    "3 Scissor \n",
    "             '''))\n",
    "            if user_input2 == 1:\n",
    "                user_choice = \"rock\"\n",
    "            elif user_input2 == 2:\n",
    "                user_choice = \"paper\"  \n",
    "                \n",
    "            elif user_input2 == 3:\n",
    "                user_choice = \"scissor\" \n",
    "                \n",
    "            else:\n",
    "                print('invalid option')\n",
    "                \n",
    "            cpu_choice = random.choice(lst)\n",
    "            if user_choice == cpu_choice:\n",
    "                print(\"User input\",user_choice)\n",
    "                print(\"Cpu value\",cpu_choice)\n",
    "                print(\"Game is draw...\")\n",
    "                ucount+=1\n",
    "                ccount+=1\n",
    "                \n",
    "            elif (user_choice == 'rock' and cpu_choice == 'scissor') or (user_choice == 'scissor' and cpu_choice == 'paper') or (user_choice == 'paper' and cpu_choice == 'rock'):\n",
    "                print(\"User input\",user_choice)\n",
    "                print(\"Cpu value\",cpu_choice)\n",
    "                print(\"You Win....\")\n",
    "                ucount+=1\n",
    "                \n",
    "            else:\n",
    "                print(\"User input\",user_choice)\n",
    "                print(\"Cpu value\",cpu_choice)\n",
    "                print(\"You Lose....\")\n",
    "                ccount+=1\n",
    "        \n",
    "        if ucount == ccount:\n",
    "            print(\"User final score\",ucount)\n",
    "            print(\"Cpu final score\",ccount)\n",
    "            print(\"Final game draw....\")\n",
    "            \n",
    "        elif ucount > ccount:\n",
    "            print(\"User final score\",ucount)\n",
    "            print(\"Cpu final score\",ccount)\n",
    "            print(\"You win the final game....\")\n",
    "            \n",
    "            \n",
    "            \n",
    "            \n",
    "        else:\n",
    "            print(\"User final score\",ucount)\n",
    "            print(\"Cpu final score\",ccount)\n",
    "            print(\"You lose the game....\")\n",
    "        \n",
    "        \n",
    "    elif user_input ==2:\n",
    "        break\n",
    "    else:\n",
    "        print(\"invalid option\")"
   ]
  },
  {
   "cell_type": "code",
   "execution_count": null,
   "id": "bee73da7",
   "metadata": {},
   "outputs": [],
   "source": []
  }
 ],
 "metadata": {
  "kernelspec": {
   "display_name": "Python 3 (ipykernel)",
   "language": "python",
   "name": "python3"
  },
  "language_info": {
   "codemirror_mode": {
    "name": "ipython",
    "version": 3
   },
   "file_extension": ".py",
   "mimetype": "text/x-python",
   "name": "python",
   "nbconvert_exporter": "python",
   "pygments_lexer": "ipython3",
   "version": "3.9.13"
  }
 },
 "nbformat": 4,
 "nbformat_minor": 5
}
